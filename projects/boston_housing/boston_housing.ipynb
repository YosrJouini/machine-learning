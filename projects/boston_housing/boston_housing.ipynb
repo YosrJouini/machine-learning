{
 "metadata": {
  "anaconda-cloud": {},
  "kernelspec": {
   "display_name": "Python 3",
   "language": "python",
   "name": "python3"
  },
  "language_info": {
   "codemirror_mode": {
    "name": "ipython",
    "version": 3
   },
   "file_extension": ".py",
   "mimetype": "text/x-python",
   "name": "python",
   "nbconvert_exporter": "python",
   "pygments_lexer": "ipython3",
   "version": "3.6.0"
  },
  "name": "",
  "signature": "sha256:8d686d4f1928108d205f76c3c63e3188569de90f66452ba722b6446c160eba7e"
 },
 "nbformat": 3,
 "nbformat_minor": 0,
 "worksheets": [
  {
   "cells": [
    {
     "cell_type": "markdown",
     "metadata": {},
     "source": [
      "# Machine Learning Engineer Nanodegree\n",
      "## Model Evaluation & Validation\n",
      "## Project: Predicting Boston Housing Prices\n",
      "\n",
      "Welcome to the first project of the Machine Learning Engineer Nanodegree! In this notebook, some template code has already been provided for you, and you will need to implement additional functionality to successfully complete this project. You will not need to modify the included code beyond what is requested. Sections that begin with **'Implementation'** in the header indicate that the following block of code will require additional functionality which you must provide. Instructions will be provided for each section and the specifics of the implementation are marked in the code block with a 'TODO' statement. Please be sure to read the instructions carefully!\n",
      "\n",
      "In addition to implementing code, there will be questions that you must answer which relate to the project and your implementation. Each section where you will answer a question is preceded by a **'Question X'** header. Carefully read each question and provide thorough answers in the following text boxes that begin with **'Answer:'**. Your project submission will be evaluated based on your answers to each of the questions and the implementation you provide.  \n",
      "\n",
      ">**Note:** Code and Markdown cells can be executed using the **Shift + Enter** keyboard shortcut. In addition, Markdown cells can be edited by typically double-clicking the cell to enter edit mode."
     ]
    },
    {
     "cell_type": "markdown",
     "metadata": {},
     "source": [
      "## Getting Started\n",
      "In this project, you will evaluate the performance and predictive power of a model that has been trained and tested on data collected from homes in suburbs of Boston, Massachusetts. A model trained on this data that is seen as a *good fit* could then be used to make certain predictions about a home \u2014 in particular, its monetary value. This model would prove to be invaluable for someone like a real estate agent who could make use of such information on a daily basis.\n",
      "\n",
      "The dataset for this project originates from the [UCI Machine Learning Repository](https://archive.ics.uci.edu/ml/datasets/Housing). The Boston housing data was collected in 1978 and each of the 506 entries represent aggregated data about 14 features for homes from various suburbs in Boston, Massachusetts. For the purposes of this project, the following preprocessing steps have been made to the dataset:\n",
      "- 16 data points have an `'MEDV'` value of 50.0. These data points likely contain **missing or censored values** and have been removed.\n",
      "- 1 data point has an `'RM'` value of 8.78. This data point can be considered an **outlier** and has been removed.\n",
      "- The features `'RM'`, `'LSTAT'`, `'PTRATIO'`, and `'MEDV'` are essential. The remaining **non-relevant features** have been excluded.\n",
      "- The feature `'MEDV'` has been **multiplicatively scaled** to account for 35 years of market inflation.\n",
      "\n",
      "Run the code cell below to load the Boston housing dataset, along with a few of the necessary Python libraries required for this project. You will know the dataset loaded successfully if the size of the dataset is reported."
     ]
    },
    {
     "cell_type": "code",
     "collapsed": true,
     "input": [
      "# Import libraries necessary for this project\n",
      "import numpy as np\n",
      "import pandas as pd\n",
      "from sklearn.cross_validation import ShuffleSplit\n",
      "\n",
      "# Import supplementary visualizations code visuals.py\n",
      "import visuals as vs\n",
      "\n",
      "# Pretty display for notebooks\n",
      "%matplotlib inline\n",
      "\n",
      "# Load the Boston housing dataset\n",
      "data = pd.read_csv('housing.csv')\n",
      "prices = data['MEDV']\n",
      "features = data.drop('MEDV', axis = 1)\n",
      "    \n",
      "# Success\n",
      "print \"Boston housing dataset has {} data points with {} variables each.\".format(*data.shape)\n"
     ],
     "language": "python",
     "metadata": {},
     "outputs": [
      {
       "output_type": "stream",
       "stream": "stdout",
       "text": [
        "Boston housing dataset has 489 data points with 4 variables each.\n"
       ]
      }
     ],
     "prompt_number": 6
    },
    {
     "cell_type": "markdown",
     "metadata": {},
     "source": [
      "## Data Exploration\n",
      "In this first section of this project, you will make a cursory investigation about the Boston housing data and provide your observations. Familiarizing yourself with the data through an explorative process is a fundamental practice to help you better understand and justify your results.\n",
      "\n",
      "Since the main goal of this project is to construct a working model which has the capability of predicting the value of houses, we will need to separate the dataset into **features** and the **target variable**. The **features**, `'RM'`, `'LSTAT'`, and `'PTRATIO'`, give us quantitative information about each data point. The **target variable**, `'MEDV'`, will be the variable we seek to predict. These are stored in `features` and `prices`, respectively."
     ]
    },
    {
     "cell_type": "markdown",
     "metadata": {},
     "source": [
      "### Implementation: Calculate Statistics\n",
      "For your very first coding implementation, you will calculate descriptive statistics about the Boston housing prices. Since `numpy` has already been imported for you, use this library to perform the necessary calculations. These statistics will be extremely important later on to analyze various prediction results from the constructed model.\n",
      "\n",
      "In the code cell below, you will need to implement the following:\n",
      "- Calculate the minimum, maximum, mean, median, and standard deviation of `'MEDV'`, which is stored in `prices`.\n",
      "  - Store each calculation in their respective variable."
     ]
    },
    {
     "cell_type": "code",
     "collapsed": true,
     "input": [
      "# TODO: Minimum price of the data\n",
      "minimum_price = np.nanmin(prices)\n",
      "\n",
      "# TODO: Maximum price of the data\n",
      "maximum_price = np.nanmax(prices)\n",
      "\n",
      "# TODO: Mean price of the data\n",
      "mean_price = np.mean(prices)\n",
      "\n",
      "# TODO: Median price of the data\n",
      "median_price = np.median(prices)\n",
      "\n",
      "# TODO: Standard deviation of prices of the data\n",
      "std_price = np.std(prices)\n",
      "\n",
      "# Show the calculated statistics\n",
      "print \"Statistics for Boston housing dataset:\\n\"\n",
      "print \"Minimum price: ${:,.2f}\".format(minimum_price)\n",
      "print \"Maximum price: ${:,.2f}\".format(maximum_price)\n",
      "print \"Mean price: ${:,.2f}\".format(mean_price)\n",
      "print \"Median price ${:,.2f}\".format(median_price)\n",
      "print \"Standard deviation of prices: ${:,.2f}\".format(std_price)"
     ],
     "language": "python",
     "metadata": {},
     "outputs": [
      {
       "output_type": "stream",
       "stream": "stdout",
       "text": [
        "Statistics for Boston housing dataset:\n",
        "\n",
        "Minimum price: $105,000.00\n",
        "Maximum price: $1,024,800.00\n",
        "Mean price: $454,342.94\n",
        "Median price $438,900.00\n",
        "Standard deviation of prices: $165,171.13\n"
       ]
      }
     ],
     "prompt_number": 7
    },
    {
     "cell_type": "markdown",
     "metadata": {},
     "source": [
      "### Question 1 - Feature Observation\n",
      "As a reminder, we are using three features from the Boston housing dataset: `'RM'`, `'LSTAT'`, and `'PTRATIO'`. For each data point (neighborhood):\n",
      "- `'RM'` is the average number of rooms among homes in the neighborhood.\n",
      "- `'LSTAT'` is the percentage of homeowners in the neighborhood considered \"lower class\" (working poor).\n",
      "- `'PTRATIO'` is the ratio of students to teachers in primary and secondary schools in the neighborhood.\n",
      "\n",
      "\n",
      "** Using your intuition, for each of the three features above, do you think that an increase in the value of that feature would lead to an **increase** in the value of `'MEDV'` or a **decrease** in the value of `'MEDV'`? Justify your answer for each.**\n",
      "\n",
      "**Hint:** This problem can phrased using examples like below.  \n",
      "* Would you expect a home that has an `'RM'` value(number of rooms) of 6 be worth more or less than a home that has an `'RM'` value of 7?\n",
      "* Would you expect a neighborhood that has an `'LSTAT'` value(percent of lower class workers) of 15 have home prices be worth more or less than a neighborhood that has an `'LSTAT'` value of 20?\n",
      "* Would you expect a neighborhood that has an `'PTRATIO'` value(ratio of students to teachers) of 10 have home prices be worth more or less than a neighborhood that has an `'PTRATIO'` value of 15?"
     ]
    },
    {
     "cell_type": "markdown",
     "metadata": {},
     "source": [
      "**Answer: **\n",
      "-RM: I expect that the increase of 'RM' value would as well increase the 'MEDV' value as homes with more rooms tend to be pricier.\n",
      "\n",
      "-LSTAT: I expect that the increase of 'LSTAT' would decrease the value of 'MEDV' as streets with higher lower class habitants tend to have houses cheap.\n",
      "\n",
      "-'PTRATIO': Same as LSTAT as students usually live in cheaper places"
     ]
    },
    {
     "cell_type": "markdown",
     "metadata": {},
     "source": [
      "\n",
      "## Developing a Model\n",
      "In this second section of the project, you will develop the tools and techniques necessary for a model to make a prediction. Being able to make accurate evaluations of each model's performance through the use of these tools and techniques helps to greatly reinforce the confidence in your predictions."
     ]
    },
    {
     "cell_type": "markdown",
     "metadata": {},
     "source": [
      "### Implementation: Define a Performance Metric\n",
      "It is difficult to measure the quality of a given model without quantifying its performance over training and testing. This is typically done using some type of performance metric, whether it is through calculating some type of error, the goodness of fit, or some other useful measurement. For this project, you will be calculating the [*coefficient of determination*](http://stattrek.com/statistics/dictionary.aspx?definition=coefficient_of_determination), R<sup>2</sup>, to quantify your model's performance. The coefficient of determination for a model is a useful statistic in regression analysis, as it often describes how \"good\" that model is at making predictions. \n",
      "\n",
      "The values for R<sup>2</sup> range from 0 to 1, which captures the percentage of squared correlation between the predicted and actual values of the **target variable**. A model with an R<sup>2</sup> of 0 is no better than a model that always predicts the *mean* of the target variable, whereas a model with an R<sup>2</sup> of 1 perfectly predicts the target variable. Any value between 0 and 1 indicates what percentage of the target variable, using this model, can be explained by the **features**. _A model can be given a negative R<sup>2</sup> as well, which indicates that the model is **arbitrarily worse** than one that always predicts the mean of the target variable._\n",
      "\n",
      "For the `performance_metric` function in the code cell below, you will need to implement the following:\n",
      "- Use `r2_score` from `sklearn.metrics` to perform a performance calculation between `y_true` and `y_predict`.\n",
      "- Assign the performance score to the `score` variable."
     ]
    },
    {
     "cell_type": "code",
     "collapsed": true,
     "input": [
      "# TODO: Import 'r2_score'\n",
      "from sklearn.metrics import r2_score\n",
      "def performance_metric(y_true, y_predict):\n",
      "    \"\"\" Calculates and returns the performance score between \n",
      "        true and predicted values based on the metric chosen. \"\"\"\n",
      "    \n",
      "    # TODO: Calculate the performance score between 'y_true' and 'y_predict'\n",
      "    score = r2_score(y_true, y_predict)\n",
      "    \n",
      "    # Return the score\n",
      "    return score"
     ],
     "language": "python",
     "metadata": {},
     "outputs": [],
     "prompt_number": 8
    },
    {
     "cell_type": "markdown",
     "metadata": {},
     "source": [
      "### Question 2 - Goodness of Fit\n",
      "Assume that a dataset contains five data points and a model made the following predictions for the target variable:\n",
      "\n",
      "| True Value | Prediction |\n",
      "| :-------------: | :--------: |\n",
      "| 3.0 | 2.5 |\n",
      "| -0.5 | 0.0 |\n",
      "| 2.0 | 2.1 |\n",
      "| 7.0 | 7.8 |\n",
      "| 4.2 | 5.3 |\n",
      "\n",
      "Run the code cell below to use the `performance_metric` function and calculate this model's coefficient of determination."
     ]
    },
    {
     "cell_type": "code",
     "collapsed": true,
     "input": [
      "# Calculate the performance of this model\n",
      "score = performance_metric([3, -0.5, 2, 7, 4.2], [2.5, 0.0, 2.1, 7.8, 5.3])\n",
      "print \"Model has a coefficient of determination, R^2, of {:.3f}.\".format(score)"
     ],
     "language": "python",
     "metadata": {},
     "outputs": [
      {
       "output_type": "stream",
       "stream": "stdout",
       "text": [
        "Model has a coefficient of determination, R^2, of 0.923.\n"
       ]
      }
     ],
     "prompt_number": 9
    },
    {
     "cell_type": "markdown",
     "metadata": {},
     "source": [
      "* Would you consider this model to have successfully captured the variation of the target variable? \n",
      "* Why or why not?\n",
      "\n",
      "** Hint: **  The R2 score is the proportion of the variance in the dependent variable that is predictable from the independent variable. In other words:\n",
      "* R2 score of 0 means that the dependent variable cannot be predicted from the independent variable.\n",
      "* R2 score of 1 means the dependent variable can be predicted from the independent variable.\n",
      "* R2 score between 0 and 1 indicates the extent to which the dependent variable is predictable. An \n",
      "* R2 score of 0.40 means that 40 percent of the variance in Y is predictable from X."
     ]
    },
    {
     "cell_type": "markdown",
     "metadata": {},
     "source": [
      "**Answer:**\n",
      "R\u00b2 = 0.923 means that 92.3% of the the variance in Y was predicted by this model, which is pretty close to 100%.\n",
      "we can consider this model to successfully captured the variation of the target variable."
     ]
    },
    {
     "cell_type": "markdown",
     "metadata": {},
     "source": [
      "### Implementation: Shuffle and Split Data\n",
      "Your next implementation requires that you take the Boston housing dataset and split the data into training and testing subsets. Typically, the data is also shuffled into a random order when creating the training and testing subsets to remove any bias in the ordering of the dataset.\n",
      "\n",
      "For the code cell below, you will need to implement the following:\n",
      "- Use `train_test_split` from `sklearn.cross_validation` to shuffle and split the `features` and `prices` data into training and testing sets.\n",
      "  - Split the data into 80% training and 20% testing.\n",
      "  - Set the `random_state` for `train_test_split` to a value of your choice. This ensures results are consistent.\n",
      "- Assign the train and testing splits to `X_train`, `X_test`, `y_train`, and `y_test`."
     ]
    },
    {
     "cell_type": "code",
     "collapsed": true,
     "input": [
      "# TODO: Import 'train_test_split'\n",
      "from sklearn.cross_validation import train_test_split\n",
      "# TODO: Shuffle and split the data into training and testing subsets\n",
      "X_train, X_test, y_train, y_test = train_test_split(features, prices, test_size=0.2, random_state=2)\n",
      "\n",
      "# Success\n",
      "print \"Training and testing split was successful.\""
     ],
     "language": "python",
     "metadata": {},
     "outputs": [
      {
       "output_type": "stream",
       "stream": "stdout",
       "text": [
        "Training and testing split was successful.\n"
       ]
      }
     ],
     "prompt_number": 10
    },
    {
     "cell_type": "markdown",
     "metadata": {},
     "source": [
      "### Question 3 - Training and Testing\n",
      "\n",
      "* What is the benefit to splitting a dataset into some ratio of training and testing subsets for a learning algorithm?\n",
      "\n",
      "**Hint:** Think about how overfitting or underfitting is contingent upon how splits on data is done."
     ]
    },
    {
     "cell_type": "markdown",
     "metadata": {},
     "source": [
      "**Answer: **\n",
      "Splitting a dataset into training set and testing set allows us to both train and evaluate our model with different data. In this case, we avoid overfitting and keep in mind the necessity to generalize.\n"
     ]
    },
    {
     "cell_type": "markdown",
     "metadata": {},
     "source": [
      "----\n",
      "\n",
      "## Analyzing Model Performance\n",
      "In this third section of the project, you'll take a look at several models' learning and testing performances on various subsets of training data. Additionally, you'll investigate one particular algorithm with an increasing `'max_depth'` parameter on the full training set to observe how model complexity affects performance. Graphing your model's performance based on varying criteria can be beneficial in the analysis process, such as visualizing behavior that may not have been apparent from the results alone."
     ]
    },
    {
     "cell_type": "markdown",
     "metadata": {},
     "source": [
      "### Learning Curves\n",
      "The following code cell produces four graphs for a decision tree model with different maximum depths. Each graph visualizes the learning curves of the model for both training and testing as the size of the training set is increased. Note that the shaded region of a learning curve denotes the uncertainty of that curve (measured as the standard deviation). The model is scored on both the training and testing sets using R<sup>2</sup>, the coefficient of determination.  \n",
      "\n",
      "Run the code cell below and use these graphs to answer the following question."
     ]
    },
    {
     "cell_type": "code",
     "collapsed": true,
     "input": [
      "# Produce learning curves for varying training set sizes and maximum depths\n",
      "vs.ModelLearning(features, prices)"
     ],
     "language": "python",
     "metadata": {
      "scrolled": false
     },
     "outputs": [
      {
       "metadata": {},
       "output_type": "display_data",
       "png": "[encoded data removed]",
       "text": [
        "<matplotlib.figure.Figure at 0x7f65ba593cd0>"
       ]
      }
     ],
     "prompt_number": 11
    },
    {
     "cell_type": "markdown",
     "metadata": {},
     "source": [
      "### Question 4 - Learning the Data\n",
      "* Choose one of the graphs above and state the maximum depth for the model. \n",
      "* What happens to the score of the training curve as more training points are added? What about the testing curve? \n",
      "* Would having more training points benefit the model? \n",
      "\n",
      "**Hint:** Are the learning curves converging to particular scores? Generally speaking, the more data you have, the better. But if your training and testing curves are converging with a score above your benchmark threshold, would this be necessary?\n",
      "Think about the pros and cons of adding more training points based on if the training and testing curves are converging."
     ]
    },
    {
     "cell_type": "markdown",
     "metadata": {},
     "source": [
      "**Answer: **\n",
      "max_depth = 3 \n",
      "Testing score (green line) increases with training points to reach a high point 0.8.\n",
      "Training score (red line) decreases slightly as we add training points to reach 0.8 score, which means it fits the data well.\n",
      "The two lines then converge to a high score.\n",
      "Yes, having more training points do benefit the model to a certain extend, after that it no more has an impact.\n"
     ]
    },
    {
     "cell_type": "markdown",
     "metadata": {},
     "source": [
      "### Complexity Curves\n",
      "The following code cell produces a graph for a decision tree model that has been trained and validated on the training data using different maximum depths. The graph produces two complexity curves \u2014 one for training and one for validation. Similar to the **learning curves**, the shaded regions of both the complexity curves denote the uncertainty in those curves, and the model is scored on both the training and validation sets using the `performance_metric` function.  \n",
      "\n",
      "** Run the code cell below and use this graph to answer the following two questions Q5 and Q6. **"
     ]
    },
    {
     "cell_type": "code",
     "collapsed": true,
     "input": [
      "vs.ModelComplexity(X_train, y_train)"
     ],
     "language": "python",
     "metadata": {},
     "outputs": [
      {
       "metadata": {},
       "output_type": "display_data",
       "png": "[encoded data removed]",
       "text": [
        "<matplotlib.figure.Figure at 0x7f65b0f0a550>"
       ]
      }
     ],
     "prompt_number": 12
    },
    {
     "cell_type": "markdown",
     "metadata": {},
     "source": [
      "### Question 5 - Bias-Variance Tradeoff\n",
      "* When the model is trained with a maximum depth of 1, does the model suffer from high bias or from high variance? \n",
      "* How about when the model is trained with a maximum depth of 10? What visual cues in the graph justify your conclusions?\n",
      "\n",
      "**Hint:** High bias is a sign of underfitting(model is not complex enough to pick up the nuances in the data) and high variance is a sign of overfitting(model is by-hearting the data and cannot generalize well). Think about which model(depth 1 or 10) aligns with which part of the tradeoff."
     ]
    },
    {
     "cell_type": "markdown",
     "metadata": {},
     "source": [
      "**Answer: **\n",
      "When the model is trained with a maximum depth of 1, it suffers from high bias as it underfits the data( the score is 0.4 which is low)\n",
      "When the model is trained with a maximum depth of 10, it suffers from high variance as it overfits the data, which explains why the training set had a score equal to one yet the validation score was slightly higher than 0.6."
     ]
    },
    {
     "cell_type": "markdown",
     "metadata": {},
     "source": [
      "### Question 6 - Best-Guess Optimal Model\n",
      "* Which maximum depth do you think results in a model that best generalizes to unseen data? \n",
      "* What intuition lead you to this answer?\n",
      "\n",
      "** Hint: ** Look at the graph above Question 5 and see where the validation scores lie for the various depths that have been assigned to the model. Does it get better with increased depth? At what point do we get our best validation score without overcomplicating our model? And remember, Occams Razor states \"Among competing hypotheses, the one with the fewest assumptions should be selected.\""
     ]
    },
    {
     "cell_type": "markdown",
     "metadata": {},
     "source": [
      "**Answer: **\n",
      "I think the maximum depth = 3 generalizes best. It's the maximum depth where both the training set and test set have a relatively good score. "
     ]
    },
    {
     "cell_type": "markdown",
     "metadata": {},
     "source": [
      "-----\n",
      "\n",
      "## Evaluating Model Performance\n",
      "In this final section of the project, you will construct a model and make a prediction on the client's feature set using an optimized model from `fit_model`."
     ]
    },
    {
     "cell_type": "markdown",
     "metadata": {},
     "source": [
      "### Question 7 - Grid Search\n",
      "* What is the grid search technique?\n",
      "* How it can be applied to optimize a learning algorithm?\n",
      "\n",
      "** Hint: ** When explaining the Grid Search technique, be sure to touch upon why it is used,  what the 'grid' entails and what the end goal of this method is. To solidify your answer, you can also give an example of a parameter in a model that can be optimized using this approach."
     ]
    },
    {
     "cell_type": "markdown",
     "metadata": {},
     "source": [
      "**Answer: **\n",
      "Grid Search; systematically working through multiple combinations of parameter tunes, cross validate each and determine which one gives the best performance.\n",
      "It optimizes the learning algorithm by finding the proper parameters which are typically measured by cross-validation on training set."
     ]
    },
    {
     "cell_type": "markdown",
     "metadata": {},
     "source": [
      "### Question 8 - Cross-Validation\n",
      "\n",
      "* What is the k-fold cross-validation training technique? \n",
      "\n",
      "* What benefit does this technique provide for grid search when optimizing a model?\n",
      "\n",
      "**Hint:** When explaining the k-fold cross validation technique, be sure to touch upon what 'k' is, how the dataset is split into different parts for training and testing and the number of times it is run based on the 'k' value.\n",
      "\n",
      "When thinking about how k-fold cross validation helps grid search, think about the main drawbacks of grid search which are hinged upon **using a particular subset of data for training or testing** and how k-fold cv could help alleviate that. You can refer to the [docs](http://scikit-learn.org/stable/modules/cross_validation.html#cross-validation) for your answer."
     ]
    },
    {
     "cell_type": "markdown",
     "metadata": {},
     "source": [
      "**Answer: **\n",
      " k-fold cross-validation split your data into k bins, use each bean as testing data and use rest of the data as training data and validate against testing data. Repeat the process k times. And Get the average performance. \n",
      "This technique is useful when we use it in combination with grid search since we can run each permutation of grid search with a different partition from the data, so we avoid possible overfitting."
     ]
    },
    {
     "cell_type": "markdown",
     "metadata": {},
     "source": [
      "### Implementation: Fitting a Model\n",
      "Your final implementation requires that you bring everything together and train a model using the **decision tree algorithm**. To ensure that you are producing an optimized model, you will train the model using the grid search technique to optimize the `'max_depth'` parameter for the decision tree. The `'max_depth'` parameter can be thought of as how many questions the decision tree algorithm is allowed to ask about the data before making a prediction. Decision trees are part of a class of algorithms called *supervised learning algorithms*.\n",
      "\n",
      "In addition, you will find your implementation is using `ShuffleSplit()` for an alternative form of cross-validation (see the `'cv_sets'` variable). While it is not the K-Fold cross-validation technique you describe in **Question 8**, this type of cross-validation technique is just as useful!. The `ShuffleSplit()` implementation below will create 10 (`'n_splits'`) shuffled sets, and for each shuffle, 20% (`'test_size'`) of the data will be used as the *validation set*. While you're working on your implementation, think about the contrasts and similarities it has to the K-fold cross-validation technique.\n",
      "\n",
      "Please note that ShuffleSplit has different parameters in scikit-learn versions 0.17 and 0.18.\n",
      "For the `fit_model` function in the code cell below, you will need to implement the following:\n",
      "- Use [`DecisionTreeRegressor`](http://scikit-learn.org/stable/modules/generated/sklearn.tree.DecisionTreeRegressor.html) from `sklearn.tree` to create a decision tree regressor object.\n",
      "  - Assign this object to the `'regressor'` variable.\n",
      "- Create a dictionary for `'max_depth'` with the values from 1 to 10, and assign this to the `'params'` variable.\n",
      "- Use [`make_scorer`](http://scikit-learn.org/stable/modules/generated/sklearn.metrics.make_scorer.html) from `sklearn.metrics` to create a scoring function object.\n",
      "  - Pass the `performance_metric` function as a parameter to the object.\n",
      "  - Assign this scoring function to the `'scoring_fnc'` variable.\n",
      "- Use [`GridSearchCV`](http://scikit-learn.org/0.17/modules/generated/sklearn.grid_search.GridSearchCV.html) from `sklearn.grid_search` to create a grid search object.\n",
      "  - Pass the variables `'regressor'`, `'params'`, `'scoring_fnc'`, and `'cv_sets'` as parameters to the object. \n",
      "  - Assign the `GridSearchCV` object to the `'grid'` variable."
     ]
    },
    {
     "cell_type": "code",
     "collapsed": true,
     "input": [
      "# TODO: Import 'make_scorer', 'DecisionTreeRegressor', and 'GridSearchCV'\n",
      "\n",
      "from sklearn.tree import DecisionTreeRegressor\n",
      "from sklearn.metrics import make_scorer\n",
      "from sklearn.grid_search import GridSearchCV\n",
      "\n",
      "def fit_model(X, y):\n",
      "    \"\"\" Performs grid search over the 'max_depth' parameter for a \n",
      "        decision tree regressor trained on the input data [X, y]. \"\"\"\n",
      "    \n",
      "    # Create cross-validation sets from the training data\n",
      "    # sklearn version 0.18: ShuffleSplit(n_splits=10, test_size=0.1, train_size=None, random_state=None)\n",
      "    # sklearn versiin 0.17: ShuffleSplit(n, n_iter=10, test_size=0.1, train_size=None, random_state=None)\n",
      "    cv_sets = ShuffleSplit(X.shape[0], n_iter = 10, test_size = 0.20, random_state = 0)\n",
      "\n",
      "    # TODO: Create a decision tree regressor object\n",
      "    regressor = DecisionTreeRegressor()\n",
      "\n",
      "    # TODO: Create a dictionary for the parameter 'max_depth' with a range from 1 to 10\n",
      "    params = {'max_depth': list(range(1,11))}\n",
      "\n",
      "    # TODO: Transform 'performance_metric' into a scoring function using 'make_scorer' \n",
      "    scoring_fnc = make_scorer(performance_metric)\n",
      "\n",
      "    # TODO: Create the grid search cv object --> GridSearchCV()\n",
      "    # Make sure to include the right parameters in the object:\n",
      "    # (estimator, param_grid, scoring, cv) which have values 'regressor', 'params', 'scoring_fnc', and 'cv_sets' respectively.\n",
      "    grid = GridSearchCV(regressor, params, scoring= scoring_fnc, cv=cv_sets)\n",
      "\n",
      "    # Fit the grid search object to the data to compute the optimal model\n",
      "    grid = grid.fit(X, y)\n",
      "\n",
      "    # Return the optimal model after fitting the data\n",
      "    return grid.best_estimator_"
     ],
     "language": "python",
     "metadata": {},
     "outputs": [],
     "prompt_number": 14
    },
    {
     "cell_type": "markdown",
     "metadata": {},
     "source": [
      "### Making Predictions\n",
      "Once a model has been trained on a given set of data, it can now be used to make predictions on new sets of input data. In the case of a *decision tree regressor*, the model has learned *what the best questions to ask about the input data are*, and can respond with a prediction for the **target variable**. You can use these predictions to gain information about data where the value of the target variable is unknown \u2014 such as data the model was not trained on."
     ]
    },
    {
     "cell_type": "markdown",
     "metadata": {},
     "source": [
      "### Question 9 - Optimal Model\n",
      "\n",
      "* What maximum depth does the optimal model have? How does this result compare to your guess in **Question 6**?  \n",
      "\n",
      "Run the code block below to fit the decision tree regressor to the training data and produce an optimal model."
     ]
    },
    {
     "cell_type": "code",
     "collapsed": true,
     "input": [
      "# Fit the training data to the model using grid search\n",
      "reg = fit_model(X_train, y_train)\n",
      "\n",
      "# Produce the value for 'max_depth'\n",
      "print \"Parameter 'max_depth' is {} for the optimal model.\".format(reg.get_params()['max_depth'])"
     ],
     "language": "python",
     "metadata": {
      "scrolled": true
     },
     "outputs": [
      {
       "output_type": "stream",
       "stream": "stdout",
       "text": [
        "Parameter 'max_depth' is 4 for the optimal model.\n"
       ]
      }
     ],
     "prompt_number": 15
    },
    {
     "cell_type": "markdown",
     "metadata": {},
     "source": [
      "** Hint: ** The answer comes from the output of the code snipped above.\n",
      "\n",
      "**Answer: **\n",
      "The optimal model has max_depth =4\n"
     ]
    },
    {
     "cell_type": "markdown",
     "metadata": {},
     "source": [
      "### Question 10 - Predicting Selling Prices\n",
      "Imagine that you were a real estate agent in the Boston area looking to use this model to help price homes owned by your clients that they wish to sell. You have collected the following information from three of your clients:\n",
      "\n",
      "| Feature | Client 1 | Client 2 | Client 3 |\n",
      "| :---: | :---: | :---: | :---: |\n",
      "| Total number of rooms in home | 5 rooms | 4 rooms | 8 rooms |\n",
      "| Neighborhood poverty level (as %) | 17% | 32% | 3% |\n",
      "| Student-teacher ratio of nearby schools | 15-to-1 | 22-to-1 | 12-to-1 |\n",
      "\n",
      "* What price would you recommend each client sell his/her home at? \n",
      "* Do these prices seem reasonable given the values for the respective features? \n",
      "\n",
      "**Hint:** Use the statistics you calculated in the **Data Exploration** section to help justify your response.  Of the three clients, client 3 has has the biggest house, in the best public school neighborhood with the lowest poverty level; while client 2 has the smallest house, in a neighborhood with a relatively high poverty rate and not the best public schools.\n",
      "\n",
      "Run the code block below to have your optimized model make predictions for each client's home."
     ]
    },
    {
     "cell_type": "code",
     "collapsed": true,
     "input": [
      "# Produce a matrix for client data\n",
      "client_data = [[5, 17, 15], # Client 1\n",
      "               [4, 32, 22], # Client 2\n",
      "               [8, 3, 12]]  # Client 3\n",
      "\n",
      "# Show predictions\n",
      "for i, price in enumerate(reg.predict(client_data)):\n",
      "    print \"Predicted selling price for Client {}'s home: ${:,.2f}\".format(i+1, price)"
     ],
     "language": "python",
     "metadata": {},
     "outputs": [
      {
       "output_type": "stream",
       "stream": "stdout",
       "text": [
        "Predicted selling price for Client 1's home: $415,800.00\n",
        "Predicted selling price for Client 2's home: $236,478.26\n",
        "Predicted selling price for Client 3's home: $888,720.00\n"
       ]
      }
     ],
     "prompt_number": 16
    },
    {
     "cell_type": "markdown",
     "metadata": {},
     "source": [
      "**Answer: **\n",
      "Mean price: $454,342.94\n",
      "Median price $438,900.00\n",
      "Standard deviation of prices: $165,171.13\n",
      "Both House 1 and 2 are below average but reasonable predictions. House 3 is higher than the average price and close to the maximum price i the data set. "
     ]
    },
    {
     "cell_type": "markdown",
     "metadata": {},
     "source": [
      "### Sensitivity\n",
      "An optimal model is not necessarily a robust model. Sometimes, a model is either too complex or too simple to sufficiently generalize to new data. Sometimes, a model could use a learning algorithm that is not appropriate for the structure of the data given. Other times, the data itself could be too noisy or contain too few samples to allow a model to adequately capture the target variable \u2014 i.e., the model is underfitted. \n",
      "\n",
      "**Run the code cell below to run the `fit_model` function ten times with different training and testing sets to see how the prediction for a specific client changes with respect to the data it's trained on.**"
     ]
    },
    {
     "cell_type": "code",
     "collapsed": true,
     "input": [
      "vs.PredictTrials(features, prices, fit_model, client_data)"
     ],
     "language": "python",
     "metadata": {},
     "outputs": [
      {
       "output_type": "stream",
       "stream": "stdout",
       "text": [
        "Trial 1: $391,183.33\n",
        "Trial 2: $419,700.00"
       ]
      },
      {
       "output_type": "stream",
       "stream": "stdout",
       "text": [
        "\n",
        "Trial 3: $415,800.00"
       ]
      },
      {
       "output_type": "stream",
       "stream": "stdout",
       "text": [
        "\n",
        "Trial 4: $420,622.22"
       ]
      },
      {
       "output_type": "stream",
       "stream": "stdout",
       "text": [
        "\n",
        "Trial 5: $418,377.27"
       ]
      },
      {
       "output_type": "stream",
       "stream": "stdout",
       "text": [
        "\n",
        "Trial 6: $411,931.58"
       ]
      },
      {
       "output_type": "stream",
       "stream": "stdout",
       "text": [
        "\n",
        "Trial 7: $399,663.16"
       ]
      },
      {
       "output_type": "stream",
       "stream": "stdout",
       "text": [
        "\n",
        "Trial 8: $407,232.00"
       ]
      },
      {
       "output_type": "stream",
       "stream": "stdout",
       "text": [
        "\n",
        "Trial 9: $351,577.61"
       ]
      },
      {
       "output_type": "stream",
       "stream": "stdout",
       "text": [
        "\n",
        "Trial 10: $413,700.00"
       ]
      },
      {
       "output_type": "stream",
       "stream": "stdout",
       "text": [
        "\n",
        "\n",
        "Range in prices: $69,044.61\n"
       ]
      }
     ],
     "prompt_number": 17
    },
    {
     "cell_type": "markdown",
     "metadata": {},
     "source": [
      "### Question 11 - Applicability\n",
      "\n",
      "* In a few sentences, discuss whether the constructed model should or should not be used in a real-world setting.  \n",
      "\n",
      "**Hint:** Take a look at the range in prices as calculated in the code snippet above. Some questions to answering:\n",
      "- How relevant today is data that was collected from 1978? How important is inflation?\n",
      "- Are the features present in the data sufficient to describe a home? Do you think factors like quality of apppliances in the home, square feet of the plot area, presence of pool or not etc should factor in?\n",
      "- Is the model robust enough to make consistent predictions?\n",
      "- Would data collected in an urban city like Boston be applicable in a rural city?\n",
      "- Is it fair to judge the price of an individual home based on the characteristics of the entire neighborhood?"
     ]
    },
    {
     "cell_type": "markdown",
     "metadata": {},
     "source": [
      "**Answer: **\n",
      "I think this model should not be used in a real-world setting for the following reasons:\n",
      "- The data was collected from 1978, so it's no longer relevant today dur to the market changes, the inflation...\n",
      "- The features present in the data are unsufficient, many others can be added such us parking, garages...\n",
      "- The data was collected in urban city, and won't be applicable for a rural city\n",
      "- The neighborhood characteristics should be part of the feartures but definetely not exclusive."
     ]
    },
    {
     "cell_type": "markdown",
     "metadata": {},
     "source": [
      "> **Note**: Once you have completed all of the code implementations and successfully answered each question above, you may finalize your work by exporting the iPython Notebook as an HTML document. You can do this by using the menu above and navigating to  \n",
      "**File -> Download as -> HTML (.html)**. Include the finished document along with this notebook as your submission."
     ]
    }
   ],
   "metadata": {}
  }
 ]
}